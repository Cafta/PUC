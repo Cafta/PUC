{
  "nbformat": 4,
  "nbformat_minor": 0,
  "metadata": {
    "colab": {
      "provenance": []
    },
    "kernelspec": {
      "name": "python3",
      "display_name": "Python 3"
    },
    "language_info": {
      "name": "python"
    }
  },
  "cells": [
    {
      "cell_type": "markdown",
      "source": [
        "# Laboratório de IA e Automação\n",
        "\n",
        "## Laboratórios 02\n",
        "\n",
        "*André Kimaid* RA:21004050\n",
        "\n",
        "*Carlos Amaral* RA:21986609\n",
        "\n",
        "*Guilherme Talman* RA:21010098\n",
        "\n",
        "*Murilo Trevisan* RA:21986260\n",
        "\n",
        "\n",
        "\n"
      ],
      "metadata": {
        "id": "A566QHe3VKdy"
      }
    },
    {
      "cell_type": "markdown",
      "source": [
        "## Exercício 1:\n",
        "Escreva uma função Python que recebe uma lista de números inteiros por arâmetro e retorna a soma dos valores da lista."
      ],
      "metadata": {
        "id": "hZvI9FYQXBwZ"
      }
    },
    {
      "cell_type": "code",
      "execution_count": 1,
      "metadata": {
        "id": "Vn7C8BbjTl5M"
      },
      "outputs": [],
      "source": [
        "def somaLista(lista): # Criação da função\n",
        "  soma = 0            # Cria o int que será usado para somar\n",
        "  for elemento in lista:      # iteração para cada elemento da lista\n",
        "    soma = soma + elemento\n",
        "  return soma    # retorna a soma"
      ]
    },
    {
      "cell_type": "code",
      "source": [
        "# Execução da funcionalidade\n",
        "## Criação das listas\n",
        "a = [1, 3, 6]\n",
        "b = []\n",
        "c = [4, -2, 6]\n",
        "## Printa na tela a resolução do problema de forma organizada.\n",
        "print('Soma das listas:')\n",
        "print('L1: ', somaLista(a), ';\\nL2: ', somaLista(b), ';\\nL3: ', somaLista(c), '.')"
      ],
      "metadata": {
        "colab": {
          "base_uri": "https://localhost:8080/"
        },
        "id": "2sIYxFmLX3sj",
        "outputId": "5984b261-178f-4fe4-dc7d-c305b755a0d0"
      },
      "execution_count": 2,
      "outputs": [
        {
          "output_type": "stream",
          "name": "stdout",
          "text": [
            "Soma das listas:\n",
            "L1:  10 ;\n",
            "L2:  0 ;\n",
            "L3:  8 .\n"
          ]
        }
      ]
    },
    {
      "cell_type": "markdown",
      "source": [
        "## Exercício 2:\n",
        "Escreva uma função Python que receba duas listas de números inteiros e retorne **True** se elas tiverem pelo menos um elemento em comum, caso contrário **False**."
      ],
      "metadata": {
        "id": "BkJKgtTpczcp"
      }
    },
    {
      "cell_type": "code",
      "source": [
        "def conj_list(first,second):   # Criação da função de comparação\n",
        "  for item1 in first:          # para cada item da lista 'first'\n",
        "    for item2 in second:       # percorre a lista 'second'\n",
        "      if item1 == item2:       # compara os itens\n",
        "        return True\n",
        "  return False"
      ],
      "metadata": {
        "id": "34faLMr9dGpM"
      },
      "execution_count": 3,
      "outputs": []
    },
    {
      "cell_type": "code",
      "source": [
        "# Criação das listas exemplos:\n",
        "lista1 = [1,2,3,4,5]\n",
        "lista2 = [6,7,8,9,10]\n",
        "lista3 = [3,5,7,8,9]\n",
        "lista4 = [5,1,2,2,3]"
      ],
      "metadata": {
        "id": "VL_W-PUxdM5L"
      },
      "execution_count": 4,
      "outputs": []
    },
    {
      "cell_type": "code",
      "source": [
        "print(conj_list(lista1,lista2)) # faz a primeira comparação teste entre a lista 1 e a 2"
      ],
      "metadata": {
        "colab": {
          "base_uri": "https://localhost:8080/"
        },
        "id": "iMWkyzjAdizK",
        "outputId": "58cc7cc0-5eab-4581-a569-8bdeed30b574"
      },
      "execution_count": 5,
      "outputs": [
        {
          "output_type": "stream",
          "name": "stdout",
          "text": [
            "False\n"
          ]
        }
      ]
    },
    {
      "cell_type": "code",
      "source": [
        "print(conj_list(lista3,lista2))    # teste de comparação da lista 3 com a 2"
      ],
      "metadata": {
        "colab": {
          "base_uri": "https://localhost:8080/"
        },
        "id": "5_ZmEwBkdlTk",
        "outputId": "a6d2cf1c-974a-4cfd-f2c6-1b41dc262744"
      },
      "execution_count": 6,
      "outputs": [
        {
          "output_type": "stream",
          "name": "stdout",
          "text": [
            "True\n"
          ]
        }
      ]
    },
    {
      "cell_type": "markdown",
      "source": [
        "## Exercício 3:\n",
        "Escreva uma função Python que recebe uma lista de caracteres por parâmetro. A\n",
        "função retorna a quantidade de vogais da lista. A lista de caractere é recebida via\n",
        "teclado."
      ],
      "metadata": {
        "id": "apB7MUZxaAn3"
      }
    },
    {
      "cell_type": "code",
      "source": [
        "def count_character_vowell(lista):   # Define a função de análise do testo\n",
        "  vowell = 'aeiouAEIOU'              # cria uma string com todas as vogais\n",
        "  conta = 0      # int de contagem\n",
        "  for vogal in vowell:      # Para cada uma das vogais na string criada\n",
        "    for teste in lista:     # Percorre cada uma das letras da lista recebida\n",
        "      if teste == vogal:    # compara as duas\n",
        "        conta = conta + 1   # incrementa 'conta' caso tenha \"achado a vogal\"\n",
        "  return conta   # retorna"
      ],
      "metadata": {
        "id": "4zogxxZEaRoa"
      },
      "execution_count": 7,
      "outputs": []
    },
    {
      "cell_type": "code",
      "source": [
        "print(count_character_vowell('Guilherme nao sabe contar'))   # Faz a testagem"
      ],
      "metadata": {
        "colab": {
          "base_uri": "https://localhost:8080/"
        },
        "id": "nDIP00QFcVT6",
        "outputId": "c262775b-0e7e-4af9-cbde-db74594dde84"
      },
      "execution_count": 8,
      "outputs": [
        {
          "output_type": "stream",
          "name": "stdout",
          "text": [
            "10\n"
          ]
        }
      ]
    },
    {
      "cell_type": "markdown",
      "source": [
        "## Exercício 4:\n",
        "Escreva uma função Python que recebe uma lista de caracteres por parâmetro. A\n",
        "função retorna um dicionário que contém a quantidade de cada elemento da lista. A lista de caractere é recebida via teclado."
      ],
      "metadata": {
        "id": "dK5v1qNBdz1q"
      }
    },
    {
      "cell_type": "code",
      "source": [
        "def char_counter(word):  # Criando uma função chamada char_counter, que recebe o parâmetro word\n",
        "  dictionary = {}        # cria o dicionario\n",
        "  for char in word:             # faz uma iteração a cada letra da variável word\n",
        "    if char in dictionary:      # verifica se essa letra já foi incluida no dicionário\n",
        "      dictionary[char] += 1     # se sim, acrescenta 1 na contagem desta letra\n",
        "    else:\n",
        "      dictionary[char] = 1      # se não, registra ela no dicionário iniciando sua contagem\n",
        "  return dictionary     # retorna o dicionario montado para o solicitante"
      ],
      "metadata": {
        "id": "Bi_KQHVBd848"
      },
      "execution_count": 9,
      "outputs": []
    },
    {
      "cell_type": "code",
      "source": [
        "theWord = list(input('Escreva uma palavra: '))   # Solicita ao usuário uma palavra\n",
        "print(char_counter(theWord))     # Imprime na tela o dicionário"
      ],
      "metadata": {
        "colab": {
          "base_uri": "https://localhost:8080/"
        },
        "id": "4vmaOlC4fE9I",
        "outputId": "051a1cbd-4781-44a5-85c3-95b47d3e04b9"
      },
      "execution_count": 10,
      "outputs": [
        {
          "output_type": "stream",
          "name": "stdout",
          "text": [
            "Escreva uma palavra: banana\n",
            "{'b': 1, 'a': 3, 'n': 2}\n"
          ]
        }
      ]
    },
    {
      "cell_type": "code",
      "source": [
        "theWord = input('Escreva uma palavra: ')\n",
        "print(char_counter(theWord))"
      ],
      "metadata": {
        "colab": {
          "base_uri": "https://localhost:8080/"
        },
        "id": "nrArSkvj1-Mx",
        "outputId": "9c0b330b-c5ae-4b5a-90e0-857c42a8c0f4"
      },
      "execution_count": 11,
      "outputs": [
        {
          "output_type": "stream",
          "name": "stdout",
          "text": [
            "Escreva uma palavra: banana\n",
            "{'b': 1, 'a': 3, 'n': 2}\n"
          ]
        }
      ]
    }
  ]
}