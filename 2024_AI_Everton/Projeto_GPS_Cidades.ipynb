{
 "cells": [
  {
   "cell_type": "markdown",
   "metadata": {
    "id": "r2ZZwVzmSD9w"
   },
   "source": [
    "# PROJETO: ALGORITMO GPS CIDADES\n",
    "Prof. Dr. EVERTON DIAS DE OLIVEIRA\n",
    "   \n",
    "Grupo:\n",
    "\n",
    "André Kimaid RA:21004050\n",
    "\n",
    "Carlos Amaral RA:21986609\n",
    "\n",
    "Guilherme Talman RA:21010098\n",
    "\n",
    "Murilo Trevisan RA:21986260"
   ]
  },
  {
   "metadata": {},
   "cell_type": "markdown",
   "source": [
    "# Parte 0.1 - Definições das Variáveis e Funções Globais\n",
    "Dica: Comece estudando o código pela parte 1, retorne na parte 0 sempre que desejar saber como uma classe ou função funciona internamente."
   ]
  },
  {
   "metadata": {
    "ExecuteTime": {
     "end_time": "2024-05-17T20:58:39.308962Z",
     "start_time": "2024-05-17T20:58:38.408497Z"
    }
   },
   "cell_type": "code",
   "source": [
    "import numpy as np\n",
    "import pandas as pd\n",
    "import math as m"
   ],
   "outputs": [],
   "execution_count": 1
  },
  {
   "metadata": {
    "ExecuteTime": {
     "end_time": "2024-05-17T20:58:39.319039Z",
     "start_time": "2024-05-17T20:58:39.308962Z"
    }
   },
   "cell_type": "code",
   "source": [
    "def distanciaEntreCidades(cidade1, cidade2):\n",
    "  # aqui calcula a distância através da posição geográfica das cidades\n",
    "  distancia = m.sqrt((cidade1.latitude - cidade2.latitude)**2+(cidade1.longitude - cidade2.longitude)**2)\n",
    "  return distancia"
   ],
   "outputs": [],
   "execution_count": 2
  },
  {
   "metadata": {
    "ExecuteTime": {
     "end_time": "2024-05-17T20:58:39.328270Z",
     "start_time": "2024-05-17T20:58:39.319039Z"
    }
   },
   "cell_type": "code",
   "source": [
    "def menor(aberta): # aberta é um array de vértices\n",
    "  menorG = float('inf')\n",
    "  for vertice in aberta:\n",
    "    if vertice.G < menorG:\n",
    "      menorG = vertice.G\n",
    "      verticeRetorno = vertice\n",
    "  return verticeRetorno"
   ],
   "outputs": [],
   "execution_count": 3
  },
  {
   "metadata": {},
   "cell_type": "markdown",
   "source": "## Parte 0.2 - Definições das Classes:"
  },
  {
   "metadata": {
    "ExecuteTime": {
     "end_time": "2024-05-17T20:58:40.148823Z",
     "start_time": "2024-05-17T20:58:40.135849Z"
    }
   },
   "cell_type": "code",
   "source": [
    "class Adjacente:\n",
    "  def __init__(self, vertice, distancia, tempo = 0):\n",
    "    # self.nome = nome\n",
    "    self.vertice = vertice\n",
    "    self.distancia = distancia\n",
    "    self.tempo = tempo\n",
    "    velocidade = distancia/(tempo/60) # tempo está em min transformado em horas\n",
    "    consumo = 3*10**(-9) * (velocidade)**5 - 7*10**(-7)* (velocidade)**4 + 5*10**(-5) * (velocidade)**3 - 0.0001 * (velocidade)**2 + 0.0573 * (velocidade) + 3.5077\n",
    "    precoGasolina = 5.31\n",
    "    self.custo = (distancia/consumo) * precoGasolina"
   ],
   "outputs": [],
   "execution_count": 4
  },
  {
   "metadata": {
    "ExecuteTime": {
     "end_time": "2024-05-17T20:58:40.622522Z",
     "start_time": "2024-05-17T20:58:40.604893Z"
    }
   },
   "cell_type": "code",
   "source": [
    "class Cidade:\n",
    "  def __init__(self, nome, latitude, longitude):\n",
    "    self.nome = nome\n",
    "    self.latitude = float(latitude)\n",
    "    self.longitude = float(longitude)\n",
    "    self.adjacentes = []"
   ],
   "outputs": [],
   "execution_count": 5
  },
  {
   "metadata": {
    "ExecuteTime": {
     "end_time": "2024-05-17T20:58:41.032290Z",
     "start_time": "2024-05-17T20:58:41.012847Z"
    }
   },
   "cell_type": "code",
   "source": [
    "class Vertice:\n",
    "  def __init__(self, rotulo, distancia_objetivo):\n",
    "    self.rotulo = rotulo\n",
    "    self.visitado = False\n",
    "    self.distancia_objetivo = distancia_objetivo\n",
    "    self.adjacentes = [] # São Adjacentes\n",
    "    self.G = 0\n",
    "\n",
    "  def adiciona_adjacente(self, adjacente):\n",
    "    self.adjacentes.append(adjacente)\n",
    "\n",
    "  def mostra_adjacentes(self):\n",
    "    for i in self.adjacentes:\n",
    "      print(i.vertice.rotulo, i.distancia, i.tempo, i.custo)"
   ],
   "outputs": [],
   "execution_count": 6
  },
  {
   "metadata": {
    "ExecuteTime": {
     "end_time": "2024-05-17T20:58:41.435747Z",
     "start_time": "2024-05-17T20:58:41.422983Z"
    }
   },
   "cell_type": "code",
   "source": [
    "#Valores em linha reta\n",
    "class Grafo:\n",
    "  def __init__(self, dest):\n",
    "    self.destino = dest # Destino é um objeto Cidade\n",
    "    self.verticeDestino = Vertice(dest.nome,0)\n",
    "    self.vertices = [] # Dentro de cada Vertice tem os adjacentes.\n",
    "    \n",
    "  def calculaVertices(self):\n",
    "    print('Criando vértices do grafo.......', end='')\n",
    "    for i in range(len(cidades)):\n",
    "      vertice = Vertice(cidades[i].nome,distanciaEntreCidades(cidades[i],self.destino))\n",
    "      self.vertices.append(vertice)\n",
    "      if vertice.rotulo == self.destino.nome: \n",
    "        self.verticeDestino = vertice  \n",
    "    print('OK')\n",
    "   \n",
    "  def adicionarAdjacentes(self):\n",
    "    print('Adicionando adjacentes........', end='')\n",
    "    for i in range(len(cidades)):\n",
    "      for j in range(len(cidades)):\n",
    "        if not m.isnan(bdDistancia.iloc[i,j]):\n",
    "          adjacentei = Adjacente(self.vertices[i], bdDistancia.iloc[i,j], bdTempo.iloc[i,j])\n",
    "          adjacentej = Adjacente(self.vertices[j], bdDistancia.iloc[i,j], bdTempo.iloc[i,j])\n",
    "          self.vertices[i].adiciona_adjacente(adjacentej)\n",
    "          #print(self.vertices[i].rotulo, adjacentej.vertice.rotulo, 'distancia=', adjacentej.distancia, 'Tempo=', adjacentej.tempo)\n",
    "          self.vertices[j].adiciona_adjacente(adjacentei)\n",
    "          #print(self.vertices[j].rotulo, adjacentei.vertice.rotulo, 'distancia=', adjacentej.distancia, 'Tempo=', adjacentej.tempo)\n",
    "    print('OK')\n"
   ],
   "outputs": [],
   "execution_count": 7
  },
  {
   "metadata": {
    "ExecuteTime": {
     "end_time": "2024-05-17T20:58:42.322362Z",
     "start_time": "2024-05-17T20:58:42.304224Z"
    }
   },
   "cell_type": "code",
   "source": [
    "class VetorOrdenado:\n",
    "  def __init__(self, capacidade):\n",
    "    self.capacidade = capacidade\n",
    "    self.ultima_posicao = -1\n",
    "    # Mudança no tipo de dados\n",
    "    self.valores = np.empty(self.capacidade, dtype=object) # são vértices\n",
    "\n",
    "  # Referência para o vértice e comparação com a distância para o objetivo\n",
    "  def insere(self, vertice):\n",
    "    if self.ultima_posicao == self.capacidade - 1:\n",
    "      print('Capacidade máxima atingida')\n",
    "      return\n",
    "    posicao = 0\n",
    "    for i in range(self.ultima_posicao + 1):\n",
    "      posicao = i\n",
    "      if self.valores[i].distancia_objetivo > vertice.distancia_objetivo:\n",
    "        break\n",
    "      if i == self.ultima_posicao:\n",
    "        posicao = i + 1\n",
    "    x = self.ultima_posicao\n",
    "    while x >= posicao:\n",
    "      self.valores[x + 1] = self.valores[x]\n",
    "      x -= 1\n",
    "    self.valores[posicao] = vertice\n",
    "    self.ultima_posicao += 1\n",
    "\n",
    "  def imprime(self):\n",
    "    if self.ultima_posicao == -1:\n",
    "      print('O vetor está vazio')\n",
    "    else:\n",
    "      for i in range(self.ultima_posicao + 1):\n",
    "        print(i, ' - ', self.valores[i].rotulo, ' - ', self.valores[i].distancia_objetivo)"
   ],
   "outputs": [],
   "execution_count": 8
  },
  {
   "metadata": {
    "ExecuteTime": {
     "end_time": "2024-05-17T20:58:42.939540Z",
     "start_time": "2024-05-17T20:58:42.928819Z"
    }
   },
   "cell_type": "code",
   "source": [
    "class Gulosa:\n",
    "  def __init__(self, objetivo):   # Associa os parâmetros iniciais\n",
    "    self.objetivo = objetivo      # variável objetivo é um objeto Vertice\n",
    "    self.encontrado = False       # variável encontrado recebe False (uso interno)\n",
    "\n",
    "  def buscar(self, atual):      # Única função da classe\n",
    "    print('-------')                          # Mostra na tela onde está (qual cidade)\n",
    "    print('Atual: {}'.format(atual.rotulo))   # e a distância para as cidades vizinhas\n",
    "    atual.visitado = True   # seta visitado para True, evitando que retorne para esta cidade\n",
    "                            # na próxima cidade a ser avaliada.\n",
    "                            # perceba que este 'atual' é a cidade passada na busca.\n",
    "\n",
    "    if atual == self.objetivo:  # Verifica se já chegou na cidade objetivo\n",
    "      self.encontrado = True\n",
    "    else:\n",
    "      vetor_ordenado = VetorOrdenado(len(atual.adjacentes))  # Instancia (\"cria\") um objeto do tipo\n",
    "                                                             # tipo 'VetorOrdenado', de tamanho igual\n",
    "                                                             # ao número de cidades adjacentes\n",
    "      for adjacente in atual.adjacentes:  # Percorre todas as cidades adjacentes da cidade de \n",
    "                                          # 'atual' (passada no parâmetro) \n",
    "        if adjacente.vertice.visitado == False:     # Preenche o vetor ordenado com todos os vertices\n",
    "          adjacente.vertice.visitado == True        # do adjacente, de forma que o vértice mais próximo\n",
    "          vetor_ordenado.insere(adjacente.vertice)  # ficará em primeiro da lista\n",
    "      vetor_ordenado.imprime() # imprime a lista\n",
    "\n",
    "      if vetor_ordenado.valores[0] != None:     # Para não dar erro, garante que existe a distância\n",
    "                                                # registrada no vetor\n",
    "        self.buscar(vetor_ordenado.valores[0])  # avança para o vértice mais próximo (recorrentemente\n",
    "                                                # até que encontre o destino)\n"
   ],
   "outputs": [],
   "execution_count": 9
  },
  {
   "metadata": {
    "ExecuteTime": {
     "end_time": "2024-05-17T20:58:43.537225Z",
     "start_time": "2024-05-17T20:58:43.518763Z"
    }
   },
   "cell_type": "code",
   "source": [
    "class Dijkastra:\n",
    "  def __init__(self, grafo, avaliacao = 'distancia'):   # avaliação é:'distancia', 'tempo' ou 'custo'\n",
    "    self.objetivo = grafo.verticeDestino # objetivo é um vértice  ; \n",
    "    self.avaliacao = avaliacao\n",
    "    self.encontrado = False\n",
    "    self.aberta = []\n",
    "    self.expandida = []\n",
    "      \n",
    "  def buscar(self, origem):  # origem é vértice\n",
    "    origem.G = 0\n",
    "    self.aberta.append(origem)\n",
    "    while len(self.aberta) > 0:\n",
    "      atual = menor(self.aberta)\n",
    "      self.aberta.remove(atual)\n",
    "      self.expandida.append(atual)\n",
    "      if atual.rotulo == self.objetivo.rotulo:\n",
    "        self.encontrado = True\n",
    "        break\n",
    "      else:\n",
    "        for adjacente in atual.adjacentes:\n",
    "          if not adjacente.vertice in self.expandida:\n",
    "            if not adjacente.vertice in self.aberta:\n",
    "              # Calculando G para cada um dos adjacentes:\n",
    "              if self.avaliacao == 'distancia':\n",
    "                adjacente.vertice.G = atual.G + adjacente.distancia\n",
    "              elif self.avaliacao == 'tempo':\n",
    "                adjacente.vertice.G = atual.G + adjacente.tempo\n",
    "              elif self.avaliacao == 'custo':\n",
    "                adjacente.vertice.G = atual.G + adjacente.custo\n",
    "              # Colocando na lista aberta esse vértice\n",
    "              self.aberta.append(adjacente.vertice)\n",
    "    # acabou o while, significa que percorreu todas as possibilidades\n",
    "    # agora é achar o melhor caminho\n",
    "    caminhoInverso = []\n",
    "    atual = self.objetivo\n",
    "    while atual.rotulo != origem.rotulo:\n",
    "      caminhoInverso.append(atual)\n",
    "      listaVerticesAdjacentes = []\n",
    "      for adjacente in atual.adjacentes:\n",
    "        listaVerticesAdjacentes.append(adjacente.vertice)\n",
    "        atual = menor(listaVerticesAdjacentes)\n",
    "    caminhoInverso.append(origem)\n",
    "    caminho = caminhoInverso[::-1] # inverte o caminho\n",
    "    # Agora mostra a lista\n",
    "    for vertice in caminho:\n",
    "      print(vertice.rotulo)\n",
    "      if not vertice.rotulo == self.objetivo.rotulo:\n",
    "        for adjacente in vertice.adjacentes:\n",
    "          print(' - ', adjacente.vertice.rotulo, ' - ', adjacente.vertice.G)\n",
    "      \n",
    "    "
   ],
   "outputs": [],
   "execution_count": 10
  },
  {
   "metadata": {},
   "cell_type": "markdown",
   "source": "# Adquirindo Dados do Arquivo do Excel:"
  },
  {
   "metadata": {
    "ExecuteTime": {
     "end_time": "2024-05-17T20:58:46.321676Z",
     "start_time": "2024-05-17T20:58:45.784662Z"
    }
   },
   "cell_type": "code",
   "source": [
    "# Lendo dados do Banco de Dados 'RegiaoMetropolitanaCampinas.xlsx'\n",
    "bdCidades = pd.read_excel('RegiaoMetropolitanaCampinas.xlsx', sheet_name='Planilha1', engine='openpyxl')\n",
    "bdCidades.drop(columns=bdCidades.columns[0], inplace=True)\n",
    "bdCidades[['latitude', 'longitude']] = bdCidades['coordenadas'].str.split(',', expand=True)\n",
    "bdDistancia = pd.read_excel('RegiaoMetropolitanaCampinas.xlsx', sheet_name='PlanilhaDistancia', engine='openpyxl')\n",
    "bdTempo = pd.read_excel('RegiaoMetropolitanaCampinas.xlsx', sheet_name='PlanilhaTempo', engine='openpyxl')\n",
    "# Removendo a coluna com o nome das cidades, para que o indice x e y correspondam a mesma cidade\n",
    "bdDistancia.drop('Cidade1',axis=1, inplace=True)\n",
    "bdTempo.drop('Cidade1',axis=1, inplace=True)"
   ],
   "outputs": [],
   "execution_count": 11
  },
  {
   "metadata": {
    "ExecuteTime": {
     "end_time": "2024-05-17T20:58:47.178288Z",
     "start_time": "2024-05-17T20:58:47.157673Z"
    }
   },
   "cell_type": "code",
   "source": [
    "# Criando listagem de cidades, com suas coordenadas GPS\n",
    "cidades = []\n",
    "for i in range(0, len(bdCidades)):\n",
    "  cidades.append(Cidade(bdCidades.cidade[i], bdCidades.latitude[i], bdCidades.longitude[i]))"
   ],
   "outputs": [],
   "execution_count": 12
  },
  {
   "metadata": {
    "ExecuteTime": {
     "end_time": "2024-05-17T20:50:28.007115Z",
     "start_time": "2024-05-17T20:50:27.993678Z"
    }
   },
   "cell_type": "code",
   "source": [
    "# Só teste para ver se está de acordo as cidades com a distância entre elas\n",
    "bdDistancia.iloc[3,0], cidades[0].nome, cidades[3].nome"
   ],
   "outputs": [
    {
     "data": {
      "text/plain": [
       "(30.2, 'Americana', 'Cosmópolis')"
      ]
     },
     "execution_count": 36,
     "metadata": {},
     "output_type": "execute_result"
    }
   ],
   "execution_count": 36
  },
  {
   "cell_type": "markdown",
   "metadata": {},
   "source": [
    "# Parte 1 - Código:\n",
    "Aqui se passa a lógica propriamente dita da resolução do problema"
   ]
  },
  {
   "metadata": {
    "ExecuteTime": {
     "end_time": "2024-05-17T21:47:42.058143Z",
     "start_time": "2024-05-17T21:47:38.529362Z"
    }
   },
   "cell_type": "code",
   "source": [
    "# Escolha da cidade destino:   \n",
    "menu = \"\"\n",
    "i = 0\n",
    "for cidad in cidades:\n",
    "  menu += '(' + str(i) + ')'\n",
    "  i += 1\n",
    "  menu += str(cidad.nome) + '\\n'\n",
    "cidadeDestino = input(menu+'\\nEscolha o número da cidade DESTINO: ')\n",
    "cidadeDestino = int(cidadeDestino)"
   ],
   "outputs": [],
   "execution_count": 22
  },
  {
   "metadata": {
    "ExecuteTime": {
     "end_time": "2024-05-17T21:47:52.040776Z",
     "start_time": "2024-05-17T21:47:46.368853Z"
    }
   },
   "cell_type": "code",
   "source": [
    "# Escolha da cidade de Origem:   \n",
    "menu = \"\"\n",
    "i = 0\n",
    "for cidad in cidades:\n",
    "  menu += '(' + str(i) + ')'\n",
    "  i += 1\n",
    "  menu += str(cidad.nome) + '\\n'\n",
    "cidadeOrigem = input(menu+'\\nEscolha o número da cidade de ORIGEM: ')\n",
    "cidadeOrigem = int(cidadeOrigem)"
   ],
   "outputs": [],
   "execution_count": 23
  },
  {
   "metadata": {
    "ExecuteTime": {
     "end_time": "2024-05-17T21:47:57.947878Z",
     "start_time": "2024-05-17T21:47:57.914655Z"
    }
   },
   "cell_type": "code",
   "source": [
    "# Criando o Grafo da cidade destino:\n",
    "print('Cidade escolhida =', cidades[cidadeDestino].nome, '(Grafo criado)')\n",
    "grafoEscolha = Grafo(cidades[cidadeDestino])\n",
    "grafoEscolha.calculaVertices()\n",
    "grafoEscolha.adicionarAdjacentes()"
   ],
   "outputs": [
    {
     "name": "stdout",
     "output_type": "stream",
     "text": [
      "Cidade escolhida = Itatiba (Grafo criado)\n",
      "Criando vértices do grafo.......OK\n",
      "Adicionando adjacentes........OK\n"
     ]
    }
   ],
   "execution_count": 24
  },
  {
   "metadata": {},
   "cell_type": "code",
   "source": [
    "# Só teste para mostrar as \"distâncias em graus GPS entre as cidades e o destino final\"\n",
    "for i in range(len(cidades)):\n",
    "  print(grafoEscolha.vertices[i].rotulo, grafoEscolha.vertices[i].distancia_objetivo)"
   ],
   "outputs": [],
   "execution_count": null
  },
  {
   "metadata": {},
   "cell_type": "code",
   "source": [
    "# Só para testar se os adjacentes foram registrados corretamente: \n",
    "print('Adjacentes de', grafoEscolha.vertices[1].rotulo)\n",
    "grafoEscolha.vertices[1].mostra_adjacentes()"
   ],
   "outputs": [],
   "execution_count": null
  },
  {
   "metadata": {},
   "cell_type": "markdown",
   "source": [
    "# Iniciando a Busca Gulosa:\n",
    "A procura pela Busca Gulosa leva em consideração apenas a distância entre as cidades e a cidade destino. \n",
    "Assim ela vai sempre para a cidade mais próxima da cidade destino."
   ]
  },
  {
   "metadata": {
    "ExecuteTime": {
     "end_time": "2024-05-17T21:48:06.097485Z",
     "start_time": "2024-05-17T21:48:06.087391Z"
    }
   },
   "cell_type": "code",
   "source": [
    "busca_gulosa = Gulosa(grafoEscolha.vertices[cidadeDestino])\n",
    "busca_gulosa.buscar(grafoEscolha.vertices[cidadeOrigem])"
   ],
   "outputs": [
    {
     "name": "stdout",
     "output_type": "stream",
     "text": [
      "-------\n",
      "Atual: Holambra\n",
      "0  -  Jaguariúna  -  0.35076401759606934\n",
      "1  -  Santo Antônio de Posse  -  0.4057058529213684\n",
      "2  -  Artur Nogueira  -  0.5428867405101424\n",
      "-------\n",
      "Atual: Jaguariúna\n",
      "0  -  Campinas  -  0.2508701107733528\n",
      "1  -  Pedreira  -  0.27205869504322094\n",
      "2  -  Santo Antônio de Posse  -  0.4057058529213684\n",
      "-------\n",
      "Atual: Campinas\n",
      "0  -  Itatiba  -  0.0\n",
      "1  -  Morungaba  -  0.13125966115799592\n",
      "2  -  Valinhos  -  0.16907191641448657\n",
      "3  -  Hortolândia  -  0.3959531137283098\n",
      "4  -  Paulínia  -  0.39859670562737337\n",
      "5  -  Indaiatuba  -  0.39952793741937265\n",
      "-------\n",
      "Atual: Itatiba\n"
     ]
    }
   ],
   "execution_count": 25
  },
  {
   "metadata": {},
   "cell_type": "markdown",
   "source": [
    "# Pelo Algoritmo de Dijkastra\n",
    "O Algoritmo de Dijakastra faz um mapeamento de todo o trajeto, calculando os \"custos\", até chegar na cidade destino.\n",
    "Só então ele escolhe o caminho como \"custo\" mais barato.\n",
    "O \"custo\" pode ser tanto a distância rodoviária (que é diferente da distância entre as cidades), como o tempo, ou mesmo o valor em dinheiro, que chamamos aqui de custo do trajeto."
   ]
  },
  {
   "metadata": {
    "ExecuteTime": {
     "end_time": "2024-05-17T21:48:13.638884Z",
     "start_time": "2024-05-17T21:48:11.104917Z"
    }
   },
   "cell_type": "code",
   "source": [
    "# Escolha o método de escolha:   \n",
    "menu = \"1 - Menor Distância \\n2 - Menor Tempo\\n3 - Menor Curso\"\n",
    "metodo = input(menu+'\\nQual o método desejado?  ')\n",
    "if metodo == '1': metodo = 'distancia'\n",
    "elif metodo == '2': metodo = 'tempo'\n",
    "elif metodo == '3': metodo = 'custo'\n",
    "dijkastra = Dijkastra(grafoEscolha, metodo)\n",
    "print('Escolhido o método:', metodo, 'de viagem')"
   ],
   "outputs": [
    {
     "name": "stdout",
     "output_type": "stream",
     "text": [
      "Escolhido o método: distancia de viagem\n"
     ]
    }
   ],
   "execution_count": 26
  },
  {
   "metadata": {
    "ExecuteTime": {
     "end_time": "2024-05-17T21:48:16.382689Z",
     "start_time": "2024-05-17T21:48:16.372472Z"
    }
   },
   "cell_type": "code",
   "source": "dijkastra.buscar(grafoEscolha.vertices[cidadeOrigem])",
   "outputs": [
    {
     "name": "stdout",
     "output_type": "stream",
     "text": [
      "Holambra\n",
      " -  Artur Nogueira  -  14.8\n",
      " -  Jaguariúna  -  16.8\n",
      " -  Santo Antônio de Posse  -  15.1\n",
      "Jaguariúna\n",
      " -  Campinas  -  47.900000000000006\n",
      " -  Holambra  -  0\n",
      " -  Pedreira  -  29.9\n",
      " -  Santo Antônio de Posse  -  15.1\n",
      "Campinas\n",
      " -  Hortolândia  -  57.3\n",
      " -  Indaiatuba  -  74.9\n",
      " -  Itatiba  -  85.60000000000001\n",
      " -  Jaguariúna  -  16.8\n",
      " -  Morungaba  -  91.4\n",
      " -  Paulínia  -  40.3\n",
      " -  Valinhos  -  57.800000000000004\n",
      "Itatiba\n"
     ]
    }
   ],
   "execution_count": 27
  },
  {
   "metadata": {
    "ExecuteTime": {
     "end_time": "2024-05-17T20:51:42.254368Z",
     "start_time": "2024-05-17T20:51:42.254368Z"
    }
   },
   "cell_type": "code",
   "source": "",
   "outputs": [],
   "execution_count": null
  }
 ],
 "metadata": {
  "colab": {
   "provenance": []
  },
  "kernelspec": {
   "display_name": "Python 3 (ipykernel)",
   "language": "python",
   "name": "python3"
  }
 },
 "nbformat": 4,
 "nbformat_minor": 0
}
