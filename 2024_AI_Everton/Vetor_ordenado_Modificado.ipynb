{
  "nbformat": 4,
  "nbformat_minor": 0,
  "metadata": {
    "colab": {
      "provenance": []
    },
    "kernelspec": {
      "name": "python3",
      "display_name": "Python 3"
    }
  },
  "cells": [
    {
      "cell_type": "markdown",
      "source": [
        "# Laboratório de IA - PUCC - Eng. De Controle e Automação 1sem2024\n",
        "Código Apresentado pelo Prof.Everton no dia 19/04/2024 e modificado pelo grupo para incluir alteração dinâmica de tamanho do vetor. Aula sobre introdução sobre teorias de busca, algoritmos de jogos e GPS. Abordando tópicos como Heurística de Jogos, Custos de Solução, Busca com ou sem informação, Busca Gulosa, e Organização de Resultados ordenada e desordenada.\n"
      ],
      "metadata": {
        "id": "CNv_S7HN0QED"
      }
    },
    {
      "cell_type": "markdown",
      "metadata": {
        "id": "3L3hMZxPloS9"
      },
      "source": [
        "# Vetor ordenado"
      ]
    },
    {
      "cell_type": "code",
      "metadata": {
        "id": "ilKOzbksUosx"
      },
      "source": [
        "import numpy as np"
      ],
      "execution_count": 5,
      "outputs": []
    },
    {
      "cell_type": "code",
      "metadata": {
        "id": "EI9-ginDUr7z"
      },
      "source": [
        "class VetorOrdenado:\n",
        "\n",
        "  def __init__(self, capacidade):\n",
        "    self.__capacidade = capacidade\n",
        "    self.__ultima_posicao = -1\n",
        "    self.__valores = np.empty(self.__capacidade, dtype=int)\n",
        "\n",
        "  # O(n)\n",
        "  def imprime(self):\n",
        "    if self.__ultima_posicao == -1:\n",
        "      print('O vetor está vazio')\n",
        "    else:\n",
        "      for i in range(self.__ultima_posicao + 1):\n",
        "        print(i, ' - ', self.__valores[i])\n",
        "\n",
        "  # O(n)\n",
        "  def insere(self, valor):\n",
        "    if self.__ultima_posicao == self.__capacidade - 1:\n",
        "      print('Capacidade máxima atingida')\n",
        "      return\n",
        "\n",
        "    posicao = 0\n",
        "    for i in range(self.__ultima_posicao + 1):\n",
        "      posicao = i\n",
        "      if self.__valores[i] > valor:\n",
        "        break\n",
        "      if i == self.__ultima_posicao:\n",
        "        posicao = i + 1\n",
        "\n",
        "    x = self.__ultima_posicao\n",
        "    while x >= posicao:\n",
        "      self.__valores[x + 1] = self.__valores[x]\n",
        "      x -= 1\n",
        "\n",
        "    self.__valores[posicao] = valor\n",
        "    self.__ultima_posicao += 1\n",
        "\n",
        "  # O(n)\n",
        "  def setTamanho(self, novoTamanho):\n",
        "    if self.__ultima_posicao+1 > novoTamanho:\n",
        "      print('Não posso mudar para este tamanho, pois o vetor existente está mais cheio que isso.')\n",
        "    else:\n",
        "      self.__capacidade = novoTamanho\n",
        "      self.__valores = np.resize(self.__valores, (novoTamanho,))\n",
        "\n",
        "  # O(n)\n",
        "  def getTamanho(self):\n",
        "    print('O tamanho do vetor é de ', self.__capacidade, '\\nE está ', (self.__ultima_posicao+1)/self.__capacidade*100, '% cheio')\n",
        "\n"
      ],
      "execution_count": 169,
      "outputs": []
    },
    {
      "cell_type": "code",
      "metadata": {
        "id": "stsNs_K8nn4r",
        "colab": {
          "base_uri": "https://localhost:8080/"
        },
        "outputId": "107bc391-4a4c-4a13-b757-cf60cc5a7f7e"
      },
      "source": [
        "vetor = VetorOrdenado(2)\n",
        "vetor.imprime()"
      ],
      "execution_count": 184,
      "outputs": [
        {
          "output_type": "stream",
          "name": "stdout",
          "text": [
            "O vetor está vazio\n"
          ]
        }
      ]
    },
    {
      "cell_type": "code",
      "metadata": {
        "id": "6OQR86hMnr74",
        "colab": {
          "base_uri": "https://localhost:8080/"
        },
        "outputId": "cd496099-4474-4fe2-ff8f-f9b93ba7c884"
      },
      "source": [
        "vetor.insere(6)\n",
        "vetor.imprime()"
      ],
      "execution_count": 185,
      "outputs": [
        {
          "output_type": "stream",
          "name": "stdout",
          "text": [
            "0  -  6\n"
          ]
        }
      ]
    },
    {
      "cell_type": "code",
      "metadata": {
        "id": "2SD9iJjrnzpB",
        "colab": {
          "base_uri": "https://localhost:8080/"
        },
        "outputId": "4a4afad5-b369-4dff-9f0a-d925f94efd4f"
      },
      "source": [
        "vetor.insere(4)\n",
        "vetor.imprime()"
      ],
      "execution_count": 186,
      "outputs": [
        {
          "output_type": "stream",
          "name": "stdout",
          "text": [
            "0  -  4\n",
            "1  -  6\n"
          ]
        }
      ]
    },
    {
      "cell_type": "code",
      "metadata": {
        "id": "UZiJuluyn4iq",
        "colab": {
          "base_uri": "https://localhost:8080/"
        },
        "outputId": "426172c9-8818-4ae4-a324-f275317c8c0d"
      },
      "source": [
        "vetor.insere(3)\n",
        "vetor.imprime()"
      ],
      "execution_count": 187,
      "outputs": [
        {
          "output_type": "stream",
          "name": "stdout",
          "text": [
            "Capacidade máxima atingida\n",
            "0  -  4\n",
            "1  -  6\n"
          ]
        }
      ]
    },
    {
      "cell_type": "code",
      "source": [
        "vetor.setTamanho(5)"
      ],
      "metadata": {
        "id": "mi0h_Q1WTqMg"
      },
      "execution_count": 188,
      "outputs": []
    },
    {
      "cell_type": "code",
      "source": [
        "vetor.insere(3)\n",
        "vetor.imprime()"
      ],
      "metadata": {
        "colab": {
          "base_uri": "https://localhost:8080/"
        },
        "id": "-_cdL3tJTxcr",
        "outputId": "fdbc7666-b56d-4ffb-8b76-a5a4998f2cf7"
      },
      "execution_count": 189,
      "outputs": [
        {
          "output_type": "stream",
          "name": "stdout",
          "text": [
            "0  -  3\n",
            "1  -  4\n",
            "2  -  6\n"
          ]
        }
      ]
    },
    {
      "cell_type": "code",
      "source": [
        "vetor.getTamanho()"
      ],
      "metadata": {
        "colab": {
          "base_uri": "https://localhost:8080/"
        },
        "id": "7vpOp2WaW8Fm",
        "outputId": "489081fc-cb36-409c-d406-c362dd4ab911"
      },
      "execution_count": 190,
      "outputs": [
        {
          "output_type": "stream",
          "name": "stdout",
          "text": [
            "O tamanho do vetor é de  5 \n",
            "E está  60.0 % cheio\n"
          ]
        }
      ]
    },
    {
      "cell_type": "code",
      "metadata": {
        "id": "-EtyqP3ln--6",
        "colab": {
          "base_uri": "https://localhost:8080/"
        },
        "outputId": "c6948cdd-cb81-4e64-df99-d66cd484aa33"
      },
      "source": [
        "vetor.insere(5)\n",
        "vetor.imprime()"
      ],
      "execution_count": 191,
      "outputs": [
        {
          "output_type": "stream",
          "name": "stdout",
          "text": [
            "0  -  3\n",
            "1  -  4\n",
            "2  -  5\n",
            "3  -  6\n"
          ]
        }
      ]
    },
    {
      "cell_type": "code",
      "metadata": {
        "id": "Ij44GQWRoE8-",
        "colab": {
          "base_uri": "https://localhost:8080/"
        },
        "outputId": "9349aa49-456a-4870-f201-689b4b45a3aa"
      },
      "source": [
        "vetor.insere(1)\n",
        "vetor.imprime()"
      ],
      "execution_count": 192,
      "outputs": [
        {
          "output_type": "stream",
          "name": "stdout",
          "text": [
            "0  -  1\n",
            "1  -  3\n",
            "2  -  4\n",
            "3  -  5\n",
            "4  -  6\n"
          ]
        }
      ]
    },
    {
      "cell_type": "code",
      "metadata": {
        "id": "PHQuMp8aoKX3",
        "colab": {
          "base_uri": "https://localhost:8080/"
        },
        "outputId": "257733fb-68c4-4c4c-dcbc-b62491b01730"
      },
      "source": [
        "vetor.insere(8)\n",
        "vetor.imprime()"
      ],
      "execution_count": 193,
      "outputs": [
        {
          "output_type": "stream",
          "name": "stdout",
          "text": [
            "Capacidade máxima atingida\n",
            "0  -  1\n",
            "1  -  3\n",
            "2  -  4\n",
            "3  -  5\n",
            "4  -  6\n"
          ]
        }
      ]
    },
    {
      "cell_type": "code",
      "source": [
        "vetor.getTamanho()"
      ],
      "metadata": {
        "colab": {
          "base_uri": "https://localhost:8080/"
        },
        "id": "a0xGQrtWHMa-",
        "outputId": "cea8c337-cfff-479e-af2c-504b69d562ea"
      },
      "execution_count": 194,
      "outputs": [
        {
          "output_type": "stream",
          "name": "stdout",
          "text": [
            "O tamanho do vetor é de  5 \n",
            "E está  100.0 % cheio\n"
          ]
        }
      ]
    }
  ]
}