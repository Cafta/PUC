{
  "nbformat": 4,
  "nbformat_minor": 0,
  "metadata": {
    "colab": {
      "provenance": []
    },
    "kernelspec": {
      "name": "python3",
      "display_name": "Python 3"
    },
    "language_info": {
      "name": "python"
    }
  },
  "cells": [
    {
      "cell_type": "code",
      "source": [
        "import time"
      ],
      "metadata": {
        "id": "QMUcNJKEXL0m"
      },
      "execution_count": 31,
      "outputs": []
    },
    {
      "cell_type": "markdown",
      "source": [
        "## Exercício 1\n",
        "Escreva um programa python que faz a conversão de temperaturas de Celsius para Fahrenheit, a partir de uma entrada do teclado.\n"
      ],
      "metadata": {
        "id": "wnrZ1V23TgBc"
      }
    },
    {
      "cell_type": "code",
      "source": [
        "def converter(a):\n",
        "  return ((9*a)/5)+32\n",
        "\n",
        "def eNumero(numero):\n",
        "  if (type(numero) == int):\n",
        "    return True"
      ],
      "metadata": {
        "id": "Rf0SosqoTwKk"
      },
      "execution_count": 19,
      "outputs": []
    },
    {
      "cell_type": "code",
      "source": [
        "def carregando():\n",
        "  for i in range(3):\n",
        "    print(\".\", end=\"\", flush=True)\n",
        "    time.sleep(1)"
      ],
      "metadata": {
        "id": "pZvqOQCeXE3f"
      },
      "execution_count": 29,
      "outputs": []
    },
    {
      "cell_type": "code",
      "source": [
        "numero=int(input(\"Qual é o número que você deseja converter? \"))\n",
        "if (eNumero(numero)):\n",
        "  print(\"Essa é difícil... convertendo\", end=\"\")\n",
        "  carregando()\n",
        "  print(\"\\nConvertendo \" + str(numero) + \" oC em Fahrenheit, temos: \" + str(converter(numero)))"
      ],
      "metadata": {
        "colab": {
          "base_uri": "https://localhost:8080/"
        },
        "id": "KYHOKeCAVPh-",
        "outputId": "c0530326-c2f4-430c-d2f9-a1a5fccda118"
      },
      "execution_count": 34,
      "outputs": [
        {
          "output_type": "stream",
          "name": "stdout",
          "text": [
            "Qual é o número que você deseja converter? 30\n",
            "Essa é difícil... convertendo...\n",
            "Convertendo 30 oC em Fahrenheit, temos: 86.0\n"
          ]
        }
      ]
    },
    {
      "cell_type": "markdown",
      "source": [
        "## Exercício 2:\n",
        "Escreva um programa Python que calcula o mínimo múltiplo comum (mmc) entre dois\n",
        "números inteiros dados a partir do teclado.\n",
        "Para resolver este problema utilizamos a fórmula mmc=a*b/mdc"
      ],
      "metadata": {
        "id": "_yd_4TtIXUTj"
      }
    },
    {
      "cell_type": "code",
      "source": [
        "def mdc(a, b):\n",
        "  while b != 0:\n",
        "    a, b = b, a % b\n",
        "  return a\n",
        "\n",
        "def mmc(a, b):\n",
        "  if not isinstance(a, int) or not isinstance(b, int):\n",
        "    print('\\nInsira um número inteiro\\n')\n",
        "    return\n",
        "  return (a * b)/mdc(a,b)"
      ],
      "metadata": {
        "id": "Exq6KWRGXqf4"
      },
      "execution_count": null,
      "outputs": []
    },
    {
      "cell_type": "code",
      "source": [
        "a = int(input('Digite o primeiro número inteiro:'))\n",
        "b = int(input('Digite o segundo número inteiro:'))\n",
        "print(f'O MMC dos números digitados é: {mmc(a, b)}')"
      ],
      "metadata": {
        "colab": {
          "base_uri": "https://localhost:8080/"
        },
        "id": "qLiiNeHsbd1_",
        "outputId": "5a934394-4ea5-4c7e-99e8-d21c8a4a5b93"
      },
      "execution_count": null,
      "outputs": [
        {
          "output_type": "stream",
          "name": "stdout",
          "text": [
            "Digite o primeiro número inteiro:4\n",
            "Digite o segundo número inteiro:3\n",
            "O MMC dos números digitados é: 12.0\n"
          ]
        }
      ]
    },
    {
      "cell_type": "markdown",
      "source": [
        "## Exercício 3:\n",
        "Escreva um programa Python que verifica se um número inteiro dado a partir do\n",
        "teclado é primo.\n",
        "Lembrando - um número inteiro maior que 1 é primo quando só é divisível por 1 e por\n",
        "ele mesmo. O primeiro primo é o 2"
      ],
      "metadata": {
        "id": "_WM_rYkacsr0"
      }
    },
    {
      "cell_type": "code",
      "source": [
        "def ePrimo(a):\n",
        "  if a == 2:\n",
        "    return True;\n",
        "  if a < 2:\n",
        "    return False;\n",
        "  for i in range(2,a):\n",
        "    if (a%i == 0):\n",
        "      return False;\n",
        "  return True;"
      ],
      "metadata": {
        "id": "jgMImobBcsKY"
      },
      "execution_count": null,
      "outputs": []
    },
    {
      "cell_type": "code",
      "source": [
        "a = int(input('Digite o primeiro número inteiro:'))\n",
        "if ePrimo(a):\n",
        "  print('Este número é primo!')\n",
        "else:\n",
        "  print('Este número não é primo!')"
      ],
      "metadata": {
        "colab": {
          "base_uri": "https://localhost:8080/"
        },
        "id": "YNtqrgPveiLl",
        "outputId": "438d2c5c-4842-48b7-e4fe-2ac3d792f26f"
      },
      "execution_count": null,
      "outputs": [
        {
          "output_type": "stream",
          "name": "stdout",
          "text": [
            "Digite o primeiro número inteiro:5\n",
            "Este número é primo!\n"
          ]
        }
      ]
    },
    {
      "cell_type": "markdown",
      "source": [
        "## Exercício 4:\n",
        "Escreva um programa Python que “desenha” na saída o seguinte padrão abaixo.\n",
        "\n",
        "```\n",
        "*\n",
        "**\n",
        "***\n",
        "****\n",
        "*****\n",
        "****\n",
        "***\n",
        "**\n",
        "*\n",
        "```\n",
        "\n",
        "\n",
        "\n"
      ],
      "metadata": {
        "id": "5tkINVffzui-"
      }
    },
    {
      "cell_type": "code",
      "source": [
        "nColunas = 5\n",
        "for i in range(1, nColunas+1): # linhas\n",
        "  print('*' * i)\n",
        "for i in range(nColunas+1, 0, -1): # linhas\n",
        "  print('*' * i)"
      ],
      "metadata": {
        "colab": {
          "base_uri": "https://localhost:8080/"
        },
        "id": "QdcBx9FG98Qc",
        "outputId": "6ee29f8b-88b6-4705-bfdf-97ab226fb5a6"
      },
      "execution_count": 18,
      "outputs": [
        {
          "output_type": "stream",
          "name": "stdout",
          "text": [
            "*\n",
            "**\n",
            "***\n",
            "****\n",
            "*****\n",
            "******\n",
            "*****\n",
            "****\n",
            "***\n",
            "**\n",
            "*\n"
          ]
        }
      ]
    }
  ]
}