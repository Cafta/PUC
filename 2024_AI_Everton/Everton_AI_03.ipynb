{
  "nbformat": 4,
  "nbformat_minor": 0,
  "metadata": {
    "colab": {
      "provenance": []
    },
    "kernelspec": {
      "name": "python3",
      "display_name": "Python 3"
    },
    "language_info": {
      "name": "python"
    }
  },
  "cells": [
    {
      "cell_type": "markdown",
      "source": [
        "# Laboratório de IA e Automação\n",
        "\n",
        "## Laboratórios 03\n",
        "\n",
        "*André Kimaid* RA:21004050\n",
        "\n",
        "*Carlos Amaral* RA:21986609\n",
        "\n",
        "*Guilherme Talman* RA:21010098\n",
        "\n",
        "*Murilo Trevisan* RA:21986260\n",
        "\n",
        "\n",
        "\n"
      ],
      "metadata": {
        "id": "A566QHe3VKdy"
      }
    },
    {
      "cell_type": "markdown",
      "source": [
        "## Exercício 1:\n",
        "Escreva uma função em Python que recebe uma string por parâmetro. A função verifica se a string recebida contém a sílaba “Is” no início dela. Se a string fornecida já começar com “Is”, retorne a string inalterada, caso contrário adicione a e retorne a string.\n",
        "\n",
        "A string é recebida via teclado."
      ],
      "metadata": {
        "id": "CzMzaqgvXLOC"
      }
    },
    {
      "cell_type": "code",
      "source": [
        "def isCheck(palavra):     # Cria a função que checa Is e retorna\n",
        "  if palavra[0:2] == 'Is':     # Verifica se a palavra começa com 'Is'\n",
        "    return palavra\n",
        "  else:\n",
        "    return 'Is' + palavra"
      ],
      "metadata": {
        "id": "OwsESLLsXKnP"
      },
      "execution_count": null,
      "outputs": []
    },
    {
      "cell_type": "code",
      "source": [
        "palavra = input('Escreva uma palavra: ')\n",
        "print(isCheck(palavra))"
      ],
      "metadata": {
        "colab": {
          "base_uri": "https://localhost:8080/"
        },
        "id": "Z8VvzAX2YK1l",
        "outputId": "e506c3c5-981e-4a0a-d025-1f91e85b7724"
      },
      "execution_count": null,
      "outputs": [
        {
          "output_type": "stream",
          "name": "stdout",
          "text": [
            "Escreva uma palavra: Avião\n",
            "IsAvião\n"
          ]
        }
      ]
    },
    {
      "cell_type": "code",
      "source": [
        "palavra = input('Escreva uma palavra: ')\n",
        "print(isCheck(palavra))"
      ],
      "metadata": {
        "colab": {
          "base_uri": "https://localhost:8080/"
        },
        "id": "HXVzE1G8m1rL",
        "outputId": "e0fa488a-99b3-44b9-80d1-71a8dd75bd5f"
      },
      "execution_count": null,
      "outputs": [
        {
          "output_type": "stream",
          "name": "stdout",
          "text": [
            "Escreva uma palavra: Isso\n",
            "Isso\n"
          ]
        }
      ]
    },
    {
      "cell_type": "markdown",
      "source": [
        "## Exercício 2:\n",
        "Escreva uma função em Python que recebe duas string por parâmetro. A função troca os dois primeiros caracteres de cada string e retorna o resultado. As strings são recebidas via teclado."
      ],
      "metadata": {
        "id": "YCIWyjqaYq0g"
      }
    },
    {
      "cell_type": "code",
      "source": [
        "def switchFirstSecondChar(word1,word2):\n",
        "  w1 = word1[:2]                          #pega os dois primeiros caracteres de cada palavra\n",
        "  w2 = word2[:2]\n",
        "  result1 = w2 + word1[2:len(word1)]      #junta com o resto da outra palavra\n",
        "  result2 = w1 + word2[2:len(word2)]\n",
        "  return result1 + \"\\n\" + result2         # retorna a resposta"
      ],
      "metadata": {
        "id": "LAaXNPDxY5zr"
      },
      "execution_count": null,
      "outputs": []
    },
    {
      "cell_type": "code",
      "source": [
        "word1 = str(input('Digite uma palavra: '))   #Pede a palavra 1\n",
        "word2 = str(input('Digite outra palavra: ')) #Pede a palavra 2\n",
        "print(switchFirstSecondChar(word1, word2))   #Printa o valor da funcao"
      ],
      "metadata": {
        "colab": {
          "base_uri": "https://localhost:8080/"
        },
        "id": "E8mw9y1ig3ZO",
        "outputId": "55b72f50-7d88-4d0b-b791-75d2c6899fd1"
      },
      "execution_count": null,
      "outputs": [
        {
          "output_type": "stream",
          "name": "stdout",
          "text": [
            "Digite uma palavra: Banana\n",
            "Digite outra palavra: Abacaxi\n",
            "Abnana\n",
            "Baacaxi\n"
          ]
        }
      ]
    },
    {
      "cell_type": "markdown",
      "source": [
        "## Exercício 3:\n",
        "Escreva uma função em Python que recebe uma string por parâmetro. A função retorna uma lista de palavras maiores que n. A string e o valor de n é recebida via teclado."
      ],
      "metadata": {
        "id": "R8CQ-J1kY7Ey"
      }
    },
    {
      "cell_type": "code",
      "source": [
        "def maioresQue(nLetras, frase):   # Cria a função de análise\n",
        "  aReturn = []        # Array em branco\n",
        "  palavras = frase.split(' ')    # Quebra a frase no separador 'espaço em branco'\n",
        "  for palavra in palavras:      # Percorre cada uma dos itens do array\n",
        "    if len(palavra) > nLetras:  # verifica se cada item é maior que o número máximo de letra\n",
        "      aReturn.append(palavra)   # adiciona o item no array\n",
        "  return aReturn  # retorna o array"
      ],
      "metadata": {
        "id": "bwxzY022aa-L"
      },
      "execution_count": null,
      "outputs": []
    },
    {
      "cell_type": "code",
      "source": [
        "nLetras = input('Digite o tamanho de corte: ')\n",
        "frase = input('Digite a frase para análise: ')\n",
        "print(maioresQue(int(nLetras), frase))"
      ],
      "metadata": {
        "colab": {
          "base_uri": "https://localhost:8080/"
        },
        "id": "wnHK_ClncX4R",
        "outputId": "c73e5752-20d9-44b5-a90a-7789f6f7b748"
      },
      "execution_count": null,
      "outputs": [
        {
          "output_type": "stream",
          "name": "stdout",
          "text": [
            "Digite o tamanho de corte: 5\n",
            "Digite a frase para análise: Jorgete não curte salgados doces\n",
            "['Jorgete', 'salgados']\n"
          ]
        }
      ]
    },
    {
      "cell_type": "markdown",
      "source": [
        "## Exercício 4:\n",
        "Escreva uma função em Python que recebe duas string por parâmetro. A função troca os dois últimos caracteres de cada string e retorna o resultado. As strings são recebidas via teclado."
      ],
      "metadata": {
        "id": "rCTzgdL0fN4g"
      }
    },
    {
      "cell_type": "code",
      "source": [
        "def switchFirstSecondChar(word1,word2):\n",
        "  w1 = word1[-2:]                          #pega os dois primeiros caracteres de cada palavra\n",
        "  w2 = word2[-2:]\n",
        "  result1 = word1[0:len((word1))-2] + w2      #junta com o resto da outra palavra\n",
        "  result2 = word2[0:len((word2))-2] + w1\n",
        "  return result1 + \"\\n\" + result2         # retorna a resposta"
      ],
      "metadata": {
        "id": "LeyOGBUufY8m"
      },
      "execution_count": null,
      "outputs": []
    },
    {
      "cell_type": "code",
      "source": [
        "word1 = str(input('Digite uma palavra: ')) #Pede a palavra 1\n",
        "word2 = str(input('Digite outra palavra: ')) #Pede a palavra 2\n",
        "print(switchFirstSecondChar(word1, word2)) #Printa o valor da funcao"
      ],
      "metadata": {
        "colab": {
          "base_uri": "https://localhost:8080/"
        },
        "id": "2CqiJTMvhvUI",
        "outputId": "0837d8c3-6ccd-4815-988f-3d4c41e21ab3"
      },
      "execution_count": null,
      "outputs": [
        {
          "output_type": "stream",
          "name": "stdout",
          "text": [
            "Digite uma palavra: Banana\n",
            "Digite outra palavra: Abacaxi\n",
            "Banaxi\n",
            "Abacana\n"
          ]
        }
      ]
    }
  ]
}